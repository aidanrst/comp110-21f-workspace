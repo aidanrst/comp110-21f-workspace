{
 "cells": [
  {
   "cell_type": "markdown",
   "metadata": {},
   "source": [
    "# Hypothesis: Students who take notes more often will find the lessons more effective than students who take notes less often.\n",
    "\n",
    "### I chose this hypothesis because I believe notetaking increases comprehension and retention, and therefore people who take notes will be able to comprehend and retain the lessons easier, and therefore find the lessons more effective."
   ]
  },
  {
   "cell_type": "code",
   "execution_count": 1,
   "metadata": {},
   "outputs": [],
   "source": [
    "    %reload_ext autoreload\n",
    "    %autoreload 2"
   ]
  },
  {
   "cell_type": "code",
   "execution_count": null,
   "metadata": {},
   "outputs": [],
   "source": [
    "__author__ = \"730433261\""
   ]
  },
  {
   "cell_type": "code",
   "execution_count": 2,
   "metadata": {},
   "outputs": [],
   "source": [
    "from tabulate import tabulate\n",
    "\n",
    "DATA_DIRECTORY=\"../../data\"\n",
    "DATA_FILE_PATH=f\"{DATA_DIRECTORY}/survey.csv\""
   ]
  },
  {
   "cell_type": "markdown",
   "metadata": {},
   "source": [
    "## First I read in the csv and converted it to a column-oriented table to allow for easier analysis."
   ]
  },
  {
   "cell_type": "code",
   "execution_count": 3,
   "metadata": {},
   "outputs": [
    {
     "name": "stdout",
     "output_type": "stream",
     "text": [
      "Data File Read: ../../data/survey.csv\n",
      "573 rows\n",
      "36 columns\n"
     ]
    }
   ],
   "source": [
    "from data_utils import read_csv_rows, columnar\n",
    "data_rows: list[dict[str, str]] = read_csv_rows(DATA_FILE_PATH)\n",
    "data_cols: dict[str, list[str]] = columnar(data_rows)\n",
    "\n",
    "print(f\"Data File Read: {DATA_FILE_PATH}\")\n",
    "print(f\"{len(data_rows)} rows\")\n",
    "print(f\"{len(data_rows[0].keys())} columns\")"
   ]
  },
  {
   "cell_type": "markdown",
   "metadata": {},
   "source": [
    "## Then I selected for the two desired columns, `own_notes` and `ls_effective`. Here are the first 10 rows:"
   ]
  },
  {
   "cell_type": "code",
   "execution_count": 4,
   "metadata": {},
   "outputs": [
    {
     "data": {
      "text/html": [
       "<table>\n",
       "<thead>\n",
       "<tr><th style=\"text-align: right;\">  own_notes</th><th style=\"text-align: right;\">  ls_effective</th></tr>\n",
       "</thead>\n",
       "<tbody>\n",
       "<tr><td style=\"text-align: right;\">          4</td><td style=\"text-align: right;\">             7</td></tr>\n",
       "<tr><td style=\"text-align: right;\">          7</td><td style=\"text-align: right;\">             6</td></tr>\n",
       "<tr><td style=\"text-align: right;\">          7</td><td style=\"text-align: right;\">             7</td></tr>\n",
       "<tr><td style=\"text-align: right;\">          6</td><td style=\"text-align: right;\">             7</td></tr>\n",
       "<tr><td style=\"text-align: right;\">          5</td><td style=\"text-align: right;\">             6</td></tr>\n",
       "<tr><td style=\"text-align: right;\">          7</td><td style=\"text-align: right;\">             5</td></tr>\n",
       "<tr><td style=\"text-align: right;\">          4</td><td style=\"text-align: right;\">             6</td></tr>\n",
       "<tr><td style=\"text-align: right;\">          7</td><td style=\"text-align: right;\">             6</td></tr>\n",
       "<tr><td style=\"text-align: right;\">          7</td><td style=\"text-align: right;\">             6</td></tr>\n",
       "<tr><td style=\"text-align: right;\">          6</td><td style=\"text-align: right;\">             7</td></tr>\n",
       "</tbody>\n",
       "</table>"
      ],
      "text/plain": [
       "'<table>\\n<thead>\\n<tr><th style=\"text-align: right;\">  own_notes</th><th style=\"text-align: right;\">  ls_effective</th></tr>\\n</thead>\\n<tbody>\\n<tr><td style=\"text-align: right;\">          4</td><td style=\"text-align: right;\">             7</td></tr>\\n<tr><td style=\"text-align: right;\">          7</td><td style=\"text-align: right;\">             6</td></tr>\\n<tr><td style=\"text-align: right;\">          7</td><td style=\"text-align: right;\">             7</td></tr>\\n<tr><td style=\"text-align: right;\">          6</td><td style=\"text-align: right;\">             7</td></tr>\\n<tr><td style=\"text-align: right;\">          5</td><td style=\"text-align: right;\">             6</td></tr>\\n<tr><td style=\"text-align: right;\">          7</td><td style=\"text-align: right;\">             5</td></tr>\\n<tr><td style=\"text-align: right;\">          4</td><td style=\"text-align: right;\">             6</td></tr>\\n<tr><td style=\"text-align: right;\">          7</td><td style=\"text-align: right;\">             6</td></tr>\\n<tr><td style=\"text-align: right;\">          7</td><td style=\"text-align: right;\">             6</td></tr>\\n<tr><td style=\"text-align: right;\">          6</td><td style=\"text-align: right;\">             7</td></tr>\\n</tbody>\\n</table>'"
      ]
     },
     "execution_count": 4,
     "metadata": {},
     "output_type": "execute_result"
    }
   ],
   "source": [
    "from data_utils import head, select\n",
    "\n",
    "selected_data: dict[str, list[str]] = select(data_cols, [\"own_notes\", \"ls_effective\"])\n",
    "\n",
    "tabulate(head(selected_data, 10), selected_data.keys(), \"html\")"
   ]
  },
  {
   "cell_type": "markdown",
   "metadata": {},
   "source": [
    "### Before I calculated any averages, I wanted to visualize both variables as frequencies to give a clue as to if there was any relationship.\n",
    "### Since `own_notes` and `ls_effective` were on the same scale (1-7), I decided to sort them to allow for better comparison.\n",
    "#### Note than even though both were on a 1-7 scale, they represented different things;\n",
    "`own_notes`: 1 being Never and 7 being Always // `ls_effective`: 1 being Strongly Disagree and 7 being Strongly Agree\n",
    "#### but I felt were still similar enough for comparison."
   ]
  },
  {
   "cell_type": "code",
   "execution_count": 5,
   "metadata": {},
   "outputs": [
    {
     "name": "stdout",
     "output_type": "stream",
     "text": [
      "notes_counts: {'1': 6, '2': 12, '3': 20, '4': 57, '5': 83, '6': 118, '7': 277}\n",
      "efficacy_counts: {'1': 6, '2': 18, '3': 40, '4': 62, '5': 126, '6': 170, '7': 151}\n"
     ]
    },
    {
     "data": {
      "text/plain": [
       "<BarContainer object of 7 artists>"
      ]
     },
     "execution_count": 5,
     "metadata": {},
     "output_type": "execute_result"
    },
    {
     "data": {
      "image/png": "[encoded data removed]",
      "text/plain": [
       "<Figure size 864x360 with 2 Axes>"
      ]
     },
     "metadata": {
      "needs_background": "light"
     },
     "output_type": "display_data"
    }
   ],
   "source": [
    "from data_utils import count, count_sort\n",
    "\n",
    "notes_counts: dict[str, int] = count_sort(count(selected_data[\"own_notes\"]))\n",
    "print(f\"notes_counts: {notes_counts}\")\n",
    "\n",
    "efficacy_counts: dict[str, int] = count_sort(count(selected_data[\"ls_effective\"]))\n",
    "print(f\"efficacy_counts: {efficacy_counts}\")\n",
    "\n",
    "from matplotlib import pyplot as plt\n",
    "\n",
    "fig, axes = plt.subplots(1, 2, figsize=(12, 5), sharey=True)\n",
    "fig.suptitle(\"Notetaking Frequency vs. Lesson Effectiveness\")\n",
    "\n",
    "\n",
    "axes[0].set_title(\"Notetaking Frequency\")\n",
    "axes[0].bar(notes_counts.keys(), notes_counts.values())\n",
    "\n",
    "axes[1].set_title(\"Lesson Effectiveness\")\n",
    "axes[1].bar(efficacy_counts.keys(), efficacy_counts.values())"
   ]
  },
  {
   "cell_type": "markdown",
   "metadata": {},
   "source": [
    "### Comparing the two led to some interesting results. \n",
    "There seems to be a clear relationship from 1-6, but at 7 a sharp difference appears. The striking similarities compared with the stark difference led me to be unsure how the relationship would turn out.\n",
    "\n",
    "#### Note: I checked because I was curious, and the 6 people who responded '1' on the notetaking frequency *are not* the same 6 people who responed '1' on lesson efficacy."
   ]
  },
  {
   "cell_type": "markdown",
   "metadata": {},
   "source": [
    "## Where things get complicated\n",
    "### Here I defined five additional functions to generate the needed averages. At this point the desired columns had already been selected.\n",
    "First // `int_select`: I turned the `list` values in the columns from the `select` function from `str` to `int` to allow for numerical computations.\n",
    "\n",
    "Second // `row_based`: I turned the columns back into rows, I did this so each row would only have the two desired columns, and I could compare each individual against themselves.\n",
    "\n",
    "Third // `filt_high` and `filt_low`: I filtered for individuals who rated higher than 4 on notetaking and 4 or below on notetaking, and compiled their lesson efficacy ratings. Note: I chose > 4 and <= 4 as I didn't want there to be overlap (because 4 was the exact center), and the majority of responses still existed in the 5 and above range.\n",
    "\n",
    "Fourth // `average_int`: Using the filtered lists, I took the average lesson efficacy from both.\n",
    "\n",
    "Fifth // Difference: Just to make the results easier to comprehend, I took the difference between the averages to show how different the groups were from eachother."
   ]
  },
  {
   "cell_type": "code",
   "execution_count": 6,
   "metadata": {},
   "outputs": [
    {
     "name": "stdout",
     "output_type": "stream",
     "text": [
      "Lesson efficacy average for students who rated > 4 on notetaking: 5.510460251046025\n",
      "Lesson efficacy average for students who rated <= 4 on notetaking: 5.08421052631579\n",
      "Difference: 0.42624972473023526\n"
     ]
    }
   ],
   "source": [
    "from data_utils import int_select, row_based, filt_low, filt_high, average_int\n",
    "\n",
    "print(f\"Lesson efficacy average for students who rated > 4 on notetaking: {average_int(filt_high(row_based(int_select(selected_data))))}\")\n",
    "print(f\"Lesson efficacy average for students who rated <= 4 on notetaking: {average_int(filt_low(row_based(int_select(selected_data))))}\")\n",
    "print(f\"Difference: {(average_int(filt_high(row_based(int_select(selected_data))))) - (average_int(filt_low(row_based(int_select(selected_data)))))}\")"
   ]
  },
  {
   "cell_type": "markdown",
   "metadata": {},
   "source": [
    "# Conclusion...\n",
    "## ... the data was inconclusive.\n",
    "While, on average, people who took notes more often believed the lessons to be more effective than those who took notes less often, a difference of 0.43 is far from a strong indicator. This relationship is *far* weaker than I thought it would be. Even more suprising, when I moved the cutoff point in either direction (e.g. from '> 4 & <= 4' to '> 3 & <= 3' and '> 5 & <=5') the difference actually became *smaller*. This leads me to believe that there may not be a relationship at all and if there is, it is is *very* weak. This result was very suprising to me, and I am hard-pressed to reason my way through it; maybe people still feel they can get everything out of the lessons by just following along in VSCode (when applicable) or maybe people who don't take notes \"don't know what they don't know\", and thus overestimate their comprehension of the lessons. \n",
    "\n",
    "I feel it's most likely, however, as Occam's Razor tells us, that there is simply no relationship."
   ]
  }
 ],
 "metadata": {
  "interpreter": {
   "hash": "c67cb1a089e0110b171d219b88b19710a72a290e6033e9bf3282dd8b084b8f3f"
  },
  "kernelspec": {
   "display_name": "Python 3.9.6 64-bit",
   "name": "python3"
  },
  "language_info": {
   "codemirror_mode": {
    "name": "ipython",
    "version": 3
   },
   "file_extension": ".py",
   "mimetype": "text/x-python",
   "name": "python",
   "nbconvert_exporter": "python",
   "pygments_lexer": "ipython3",
   "version": "3.9.6"
  },
  "orig_nbformat": 4
 },
 "nbformat": 4,
 "nbformat_minor": 2
}
